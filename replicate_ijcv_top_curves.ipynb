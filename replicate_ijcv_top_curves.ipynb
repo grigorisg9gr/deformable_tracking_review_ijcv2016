{
 "cells": [
  {
   "cell_type": "code",
   "execution_count": null,
   "metadata": {
    "collapsed": true
   },
   "outputs": [],
   "source": [
    "# in this notebook, the top methods are loaded and then a \n",
    "# CED plot is produced, similar to the one in the paper.\n",
    "# The code below is kept in a minimum level for basic understanding,\n",
    "# more advanced plotting/processing methods should be staightforward. "
   ]
  },
  {
   "cell_type": "code",
   "execution_count": null,
   "metadata": {
    "collapsed": true
   },
   "outputs": [],
   "source": [
    "from glob import glob\n",
    "from os.path import isdir, join\n",
    "import numpy as np\n",
    "from pathlib import Path\n",
    "\n",
    "try:\n",
    "    from menpo.io import import_images, import_builtin_asset\n",
    "except ImportError:\n",
    "    m2 = ('The menpo package from http://www.menpo.org/'\n",
    "          'is required, please install it.')\n",
    "    print(m2)\n",
    "\n",
    "try:\n",
    "    from menpofit.visualize import plot_cumulative_error_distribution\n",
    "except ImportError:\n",
    "    m2 = ('Along with menpo, menpofit is required.')\n",
    "    print(m2)\n",
    "    \n",
    "try:\n",
    "    %matplotlib inline\n",
    "except NameError:\n",
    "    print('Probably a terminal, it\\'s not required.')"
   ]
  },
  {
   "cell_type": "code",
   "execution_count": null,
   "metadata": {
    "collapsed": true
   },
   "outputs": [],
   "source": [
    "# by default this is set to top_errors_txt, however adapt \n",
    "# accordingly for your paths.\n",
    "path_txt = join('top_errors_txt', '')\n",
    "\n",
    "# the methods in this context refers to the experiment, \n",
    "# e.g. detection + landm. loc. or model free track. + landm. loc..\n",
    "methods = ['detection', 'tracking']\n",
    "\n",
    "# few predefined visualisation options.\n",
    "colours = ['c', 'k', 'b', 'r', 'm', 'y', 'g', 'coral', 'seagreen', \n",
    "           'crimson', 'sienna', 'grey', 'olive', 'navy', 'indianred']"
   ]
  },
  {
   "cell_type": "code",
   "execution_count": null,
   "metadata": {
    "collapsed": false
   },
   "outputs": [],
   "source": [
    "for cat0 in range(1, 4):\n",
    "    cat = 'category{}'.format(cat0)\n",
    "    for m in methods:\n",
    "        # load the filenames of txt's of this category and \n",
    "        # the specific experiment.\n",
    "        names = glob('{}{}*{}*txt'.format(path_txt, m, cat))\n",
    "        errors, leg_entr = [], []\n",
    "        for fn in names:\n",
    "            err_m = np.loadtxt(fn)\n",
    "            errors.append(err_m.tolist())\n",
    "            # create a legend entry for each method.\n",
    "            leg_entr.append(Path(fn).stem)\n",
    "        col1 = colours[:len(errors)]\n",
    "        r = plot_cumulative_error_distribution(errors, line_colour=col1, new_figure=True,\n",
    "                                               marker_edge_colour=col1, title=m + '_' + cat,\n",
    "                                               legend_entries=leg_entr)"
   ]
  },
  {
   "cell_type": "code",
   "execution_count": null,
   "metadata": {
    "collapsed": true
   },
   "outputs": [],
   "source": []
  }
 ],
 "metadata": {
  "kernelspec": {
   "display_name": "Python 3",
   "language": "python",
   "name": "python3"
  },
  "language_info": {
   "codemirror_mode": {
    "name": "ipython",
    "version": 3
   },
   "file_extension": ".py",
   "mimetype": "text/x-python",
   "name": "python",
   "nbconvert_exporter": "python",
   "pygments_lexer": "ipython3",
   "version": "3.4.4"
  }
 },
 "nbformat": 4,
 "nbformat_minor": 0
}
