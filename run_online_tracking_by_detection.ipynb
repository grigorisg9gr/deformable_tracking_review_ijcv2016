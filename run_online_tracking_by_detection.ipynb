{
 "cells": [
  {
   "cell_type": "code",
   "execution_count": null,
   "metadata": {
    "collapsed": true
   },
   "outputs": [],
   "source": [
    "from os.path import isdir, join\n",
    "from os import listdir \n",
    "from functools import partial\n",
    "from warnings import warn\n",
    "import numpy as np\n",
    "from research_pyutils.path_related_functions import mkdir_p\n",
    "\n",
    "# menpo packages imports\n",
    "import menpo.io as mio\n",
    "from menpodetect import load_dlib_frontal_face_detector\n",
    "from menpodetect import load_opencv_frontal_face_detector\n",
    "from menpodetect.ffld2 import load_ffld2_frontal_face_detector\n",
    "from menpodetect.dlib.conversion import pointgraph_to_rect\n",
    "from dlib import shape_predictor\n",
    "from menpo.shape import PointCloud\n",
    "from menpo.landmark import LandmarkGroup"
   ]
  },
  {
   "cell_type": "code",
   "execution_count": null,
   "metadata": {
    "collapsed": true
   },
   "outputs": [],
   "source": [
    "path_base = '/vol/atlas/homes/grigoris/misc/2016_ijcv/data/300vw_testset/'\n",
    "assert(isdir(path_base))\n",
    "\n",
    "path_pickles = '/vol/atlas/homes/grigoris/misc/2016_ijcv/data/pickles/'\n",
    "assert(isdir(path_pickles))"
   ]
  },
  {
   "cell_type": "code",
   "execution_count": null,
   "metadata": {
    "collapsed": true
   },
   "outputs": [],
   "source": [
    "def return_detector(detection):\n",
    "    if detection == 'dlib':\n",
    "        return load_dlib_frontal_face_detector()\n",
    "    elif detection == 'opencv':\n",
    "        return load_opencv_frontal_face_detector()\n",
    "    elif detection == 'ffld2':\n",
    "        return load_ffld2_frontal_face_detector()\n",
    "    else:\n",
    "        raise RuntimeError('Not a valid choice of detection ({}).'.format(detection))\n",
    "        \n",
    "def detection_to_pointgraph(detection):\n",
    "    return PointCloud(np.array([(p.y, p.x) for p in detection.parts()]))"
   ]
  },
  {
   "cell_type": "code",
   "execution_count": null,
   "metadata": {
    "collapsed": true
   },
   "outputs": [],
   "source": [
    "method_detection = 'dlib'\n",
    "method_landm_loc = 'dlibERT'\n",
    "\n",
    "fold_out = 'detection_' + method_detection + '_' + method_landm_loc\n",
    "detector = return_detector(method_detection)"
   ]
  },
  {
   "cell_type": "code",
   "execution_count": null,
   "metadata": {
    "collapsed": false
   },
   "outputs": [],
   "source": [
    "path_shape_pred = path_pickles + 'modelln_' +  method_detection + '_' + method_landm_loc + '.model'\n",
    "predictor_dlib = shape_predictor(path_shape_pred)"
   ]
  },
  {
   "cell_type": "code",
   "execution_count": null,
   "metadata": {
    "collapsed": true
   },
   "outputs": [],
   "source": [
    "def process_frame(p_fr, p_ln_out, nfr, detector, landm_loc):\n",
    "    im = mio.import_image(p_fr + nfr)\n",
    "    if im.n_channels == 3:\n",
    "        im = im.as_greyscale()\n",
    "    detector(im)\n",
    "    assert(im.landmarks.n_groups < 10)  # might get complicated otherwise with the naming\n",
    "    im_pili = np.array(im.as_PILImage())\n",
    "    ln = im.landmarks[im.landmarks.group_labels[0]]\n",
    "    if landm_loc == 'dlibERT':\n",
    "        det_frame = predictor_dlib(im_pili, pointgraph_to_rect(ln.lms))\n",
    "        init_pc = detection_to_pointgraph(det_frame)\n",
    "        mio.export_landmark_file(LandmarkGroup.init_with_all_label(init_pc), p_ln_out + \n",
    "                                 im.path.stem + '.pts', overwrite=True)\n",
    "\n",
    "def process_clip(p_cat, p_fr, p_ln_out, clip, detector, method_landm_loc):\n",
    "    assert(isdir(p_fr) and isdir(p_cat))\n",
    "    list_fr = sorted(listdir(p_fr))\n",
    "    assert(len(list_fr) > 100)  # random check to ensure there are frames in there\n",
    "    for nfr in list_fr:\n",
    "        process_frame(p_fr, p_ln_out, nfr, detector, method_landm_loc)"
   ]
  },
  {
   "cell_type": "code",
   "execution_count": null,
   "metadata": {
    "collapsed": false
   },
   "outputs": [],
   "source": [
    "# 'globals' used: path_base, folder_out, method_detection, method_land_loc\n",
    "cats = listdir(path_base)\n",
    "for cat in cats:\n",
    "    if not cat[:8] == 'category' or not isdir(path_base + cat):\n",
    "        warn('Unknown content in path {} (folder: {}).'.format(path_base, cat))\n",
    "    if cat != 'category1': \n",
    "        continue     #################################################### DEBUGGING !!!!!!!!!!!!!!!!!!!!\n",
    "    p_cat = join(path_base, cat, '')\n",
    "    p_fr = join(p_cat, 'frames', '')\n",
    "    assert(isdir(p_fr))  # frames folder should exist\n",
    "    clips = sorted(listdir(p_fr))\n",
    "    for clip in clips:\n",
    "        if not isdir(p_fr + clip):\n",
    "            continue\n",
    "        print clip\n",
    "        if clip != '114':\n",
    "            continue         #################################################### DEBUGGING !!!!!!!!!!!!!!!!!!!!\n",
    "        p_ln_out = mkdir_p(join(p_cat, fold_out, clip, ''))\n",
    "        p_fr_cl = join(p_fr, clip, '')\n",
    "        process_clip(p_cat, p_fr_cl, p_ln_out, clip, detector, method_landm_loc)"
   ]
  },
  {
   "cell_type": "code",
   "execution_count": null,
   "metadata": {
    "collapsed": false
   },
   "outputs": [],
   "source": [
    "im = mio.import_builtin_asset.takeo_ppm()\n",
    "dlib = return_detector('ffld2')\n",
    "dlib(im)"
   ]
  },
  {
   "cell_type": "code",
   "execution_count": null,
   "metadata": {
    "collapsed": false
   },
   "outputs": [],
   "source": [
    "print im.landmarks.group_labels\n",
    "%matplotlib inline\n",
    "im.view_landmarks(group='ffld2_4')"
   ]
  },
  {
   "cell_type": "code",
   "execution_count": null,
   "metadata": {
    "collapsed": true
   },
   "outputs": [],
   "source": []
  }
 ],
 "metadata": {
  "kernelspec": {
   "display_name": "Python 2",
   "language": "python",
   "name": "python2"
  },
  "language_info": {
   "codemirror_mode": {
    "name": "ipython",
    "version": 2
   },
   "file_extension": ".py",
   "mimetype": "text/x-python",
   "name": "python",
   "nbconvert_exporter": "python",
   "pygments_lexer": "ipython2",
   "version": "2.7.10"
  }
 },
 "nbformat": 4,
 "nbformat_minor": 0
}
